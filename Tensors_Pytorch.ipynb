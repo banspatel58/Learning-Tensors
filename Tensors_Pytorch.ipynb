{
  "nbformat": 4,
  "nbformat_minor": 0,
  "metadata": {
    "colab": {
      "provenance": [],
      "authorship_tag": "ABX9TyPNMA+SfTNKKkvL1aBnX7Fa"
    },
    "kernelspec": {
      "name": "python3",
      "display_name": "Python 3"
    },
    "language_info": {
      "name": "python"
    }
  },
  "cells": [
    {
      "cell_type": "code",
      "execution_count": 82,
      "metadata": {
        "id": "BuvLNaKSej6i"
      },
      "outputs": [],
      "source": [
        "import torch"
      ]
    },
    {
      "cell_type": "code",
      "source": [
        "a = torch.tensor([1, 2, 3], dtype = torch.float32)\n",
        "\n",
        "# Values of Tensor\n",
        "print(\"Tensor a: \" + str(a))\n",
        "\n",
        "# Shape of Tensors\n",
        "print(\"Shape of Tensors: \" +  str(a. shape))\n",
        "\n",
        "# Number of Dimensions of Tensors\n",
        "print(\"Dimensions of Tensors: \" +  str(a. ndim))\n",
        "\n",
        "# Type Of Tensors\n",
        "print(\"Type of Tensors: \" +  str(a.dtype))"
      ],
      "metadata": {
        "colab": {
          "base_uri": "https://localhost:8080/"
        },
        "id": "GTnfXPZGfu1O",
        "outputId": "71f0a954-3f8a-440c-85cd-72f92282da42"
      },
      "execution_count": 83,
      "outputs": [
        {
          "output_type": "stream",
          "name": "stdout",
          "text": [
            "Tensor a: tensor([1., 2., 3.])\n",
            "Shape of Tensors: torch.Size([3])\n",
            "Dimensions of Tensors: 1\n",
            "Type of Tensors: torch.float32\n"
          ]
        }
      ]
    },
    {
      "cell_type": "code",
      "source": [
        "# Create Tensors of Zeros\n",
        "b = torch.zeros((3, 3, 3), dtype=torch.float32)\n",
        "print(\"Tensor of zeros of dim 3 x 3 x 3: \" + str(b))\n",
        "\n",
        "# Create Tensors of Ones\n",
        "c = torch.ones((3, 3, 3), dtype=torch.float32)\n",
        "print(\"Tensor of ones of dim 3 x 3 x 3: \" + str(c))\n",
        "\n",
        "# Create Tensors of Random Integers btwn 0 - 10\n",
        "d = torch.randint(0, 10, (3, 3, 3), dtype=torch.int16)\n",
        "print(\"Tensor of random integers of dim 3 x 3 x 3: \" + str(d))\n",
        "\n",
        "# Create Tensors of Random Floats btwn 0 - 1\n",
        "e = torch.rand((3, 3, 3), dtype=torch.float32)\n",
        "print(\"Tensor of random integers of dim 3 x 3 x 3: \" + str(e))"
      ],
      "metadata": {
        "colab": {
          "base_uri": "https://localhost:8080/"
        },
        "id": "Pvyej5zZfu_k",
        "outputId": "11ee1b41-724b-496b-afd7-d3a14be59a43"
      },
      "execution_count": 84,
      "outputs": [
        {
          "output_type": "stream",
          "name": "stdout",
          "text": [
            "Tensor of zeros of dim 3 x 3 x 3: tensor([[[0., 0., 0.],\n",
            "         [0., 0., 0.],\n",
            "         [0., 0., 0.]],\n",
            "\n",
            "        [[0., 0., 0.],\n",
            "         [0., 0., 0.],\n",
            "         [0., 0., 0.]],\n",
            "\n",
            "        [[0., 0., 0.],\n",
            "         [0., 0., 0.],\n",
            "         [0., 0., 0.]]])\n",
            "Tensor of ones of dim 3 x 3 x 3: tensor([[[1., 1., 1.],\n",
            "         [1., 1., 1.],\n",
            "         [1., 1., 1.]],\n",
            "\n",
            "        [[1., 1., 1.],\n",
            "         [1., 1., 1.],\n",
            "         [1., 1., 1.]],\n",
            "\n",
            "        [[1., 1., 1.],\n",
            "         [1., 1., 1.],\n",
            "         [1., 1., 1.]]])\n",
            "Tensor of random integers of dim 3 x 3 x 3: tensor([[[9, 7, 2],\n",
            "         [0, 4, 5],\n",
            "         [1, 4, 8]],\n",
            "\n",
            "        [[7, 2, 8],\n",
            "         [0, 5, 2],\n",
            "         [1, 1, 2]],\n",
            "\n",
            "        [[6, 8, 9],\n",
            "         [2, 6, 9],\n",
            "         [9, 5, 5]]], dtype=torch.int16)\n",
            "Tensor of random integers of dim 3 x 3 x 3: tensor([[[0.3897, 0.3018, 0.0443],\n",
            "         [0.8762, 0.6759, 0.2996],\n",
            "         [0.9056, 0.2288, 0.1663]],\n",
            "\n",
            "        [[0.1394, 0.3179, 0.9464],\n",
            "         [0.8866, 0.5335, 0.7997],\n",
            "         [0.4694, 0.8963, 0.4253]],\n",
            "\n",
            "        [[0.3889, 0.7816, 0.9862],\n",
            "         [0.0469, 0.8323, 0.0586],\n",
            "         [0.9583, 0.5497, 0.9960]]])\n"
          ]
        }
      ]
    },
    {
      "cell_type": "code",
      "source": [
        "from PIL import Image\n",
        "import numpy as np\n",
        "\n",
        "# Load tensor from an image\n",
        "img = Image.open('my-ai-image.png')\n",
        "image_tensor = torch.as_tensor(np.array(img))\n",
        "\n",
        "# Values of Image Tensor\n",
        "print(\"Image Tensor value: \" + str(image_tensor))\n",
        "\n",
        "# Shape of the Image Tensors\n",
        "print(\"Shape of Tensors: \" +  str(image_tensor.shape))\n",
        "\n",
        "# Number of Dimensions of Image Tensors\n",
        "print(\"Dimensions of Tensors: \" +  str(image_tensor.ndim))\n",
        "\n",
        "# Type Of Image Tensors\n",
        "print(\"Type of Tensors: \" +  str(image_tensor.dtype))\n",
        "\n",
        "# Changing d-type of Image Tensors\n",
        "image_tensor_d_type = torch.as_tensor(np.array(img)).float()\n",
        "\n",
        "# Values of Image Tensor of D-Type Float\n",
        "print(\"Image Tensor value of type float: \" + str(image_tensor_d_type))"
      ],
      "metadata": {
        "colab": {
          "base_uri": "https://localhost:8080/"
        },
        "id": "4W-1iPWofvDI",
        "outputId": "13b6453a-a80d-4222-ff09-34316c6ab467"
      },
      "execution_count": 85,
      "outputs": [
        {
          "output_type": "stream",
          "name": "stdout",
          "text": [
            "Image Tensor value: tensor([[[0, 0, 0, 0],\n",
            "         [0, 0, 0, 0],\n",
            "         [0, 0, 0, 0],\n",
            "         ...,\n",
            "         [0, 0, 0, 0],\n",
            "         [0, 0, 0, 0],\n",
            "         [0, 0, 0, 0]],\n",
            "\n",
            "        [[0, 0, 0, 0],\n",
            "         [0, 0, 0, 0],\n",
            "         [0, 0, 0, 0],\n",
            "         ...,\n",
            "         [0, 0, 0, 0],\n",
            "         [0, 0, 0, 0],\n",
            "         [0, 0, 0, 0]],\n",
            "\n",
            "        [[0, 0, 0, 0],\n",
            "         [0, 0, 0, 0],\n",
            "         [0, 0, 0, 0],\n",
            "         ...,\n",
            "         [0, 0, 0, 0],\n",
            "         [0, 0, 0, 0],\n",
            "         [0, 0, 0, 0]],\n",
            "\n",
            "        ...,\n",
            "\n",
            "        [[0, 0, 0, 0],\n",
            "         [0, 0, 0, 0],\n",
            "         [0, 0, 0, 0],\n",
            "         ...,\n",
            "         [0, 0, 0, 0],\n",
            "         [0, 0, 0, 0],\n",
            "         [0, 0, 0, 0]],\n",
            "\n",
            "        [[0, 0, 0, 0],\n",
            "         [0, 0, 0, 0],\n",
            "         [0, 0, 0, 0],\n",
            "         ...,\n",
            "         [0, 0, 0, 0],\n",
            "         [0, 0, 0, 0],\n",
            "         [0, 0, 0, 0]],\n",
            "\n",
            "        [[0, 0, 0, 0],\n",
            "         [0, 0, 0, 0],\n",
            "         [0, 0, 0, 0],\n",
            "         ...,\n",
            "         [0, 0, 0, 0],\n",
            "         [0, 0, 0, 0],\n",
            "         [0, 0, 0, 0]]], dtype=torch.uint8)\n",
            "Shape of Tensors: torch.Size([768, 768, 4])\n",
            "Dimensions of Tensors: 3\n",
            "Type of Tensors: torch.uint8\n",
            "Image Tensor value of type float: tensor([[[0., 0., 0., 0.],\n",
            "         [0., 0., 0., 0.],\n",
            "         [0., 0., 0., 0.],\n",
            "         ...,\n",
            "         [0., 0., 0., 0.],\n",
            "         [0., 0., 0., 0.],\n",
            "         [0., 0., 0., 0.]],\n",
            "\n",
            "        [[0., 0., 0., 0.],\n",
            "         [0., 0., 0., 0.],\n",
            "         [0., 0., 0., 0.],\n",
            "         ...,\n",
            "         [0., 0., 0., 0.],\n",
            "         [0., 0., 0., 0.],\n",
            "         [0., 0., 0., 0.]],\n",
            "\n",
            "        [[0., 0., 0., 0.],\n",
            "         [0., 0., 0., 0.],\n",
            "         [0., 0., 0., 0.],\n",
            "         ...,\n",
            "         [0., 0., 0., 0.],\n",
            "         [0., 0., 0., 0.],\n",
            "         [0., 0., 0., 0.]],\n",
            "\n",
            "        ...,\n",
            "\n",
            "        [[0., 0., 0., 0.],\n",
            "         [0., 0., 0., 0.],\n",
            "         [0., 0., 0., 0.],\n",
            "         ...,\n",
            "         [0., 0., 0., 0.],\n",
            "         [0., 0., 0., 0.],\n",
            "         [0., 0., 0., 0.]],\n",
            "\n",
            "        [[0., 0., 0., 0.],\n",
            "         [0., 0., 0., 0.],\n",
            "         [0., 0., 0., 0.],\n",
            "         ...,\n",
            "         [0., 0., 0., 0.],\n",
            "         [0., 0., 0., 0.],\n",
            "         [0., 0., 0., 0.]],\n",
            "\n",
            "        [[0., 0., 0., 0.],\n",
            "         [0., 0., 0., 0.],\n",
            "         [0., 0., 0., 0.],\n",
            "         ...,\n",
            "         [0., 0., 0., 0.],\n",
            "         [0., 0., 0., 0.],\n",
            "         [0., 0., 0., 0.]]])\n"
          ]
        }
      ]
    },
    {
      "cell_type": "code",
      "source": [
        "# Basic Operations of Tensors\n",
        "\n",
        "x = torch.arange(10)\n",
        "y = torch.ones(10)\n",
        "\n",
        "print(f'{x = }')\n",
        "print(f'{y = }')\n",
        "\n",
        "# Addition\n",
        "print(f'{x + y = }')\n",
        "\n",
        "# Multiplication\n",
        "print(f'{x * y = }')\n",
        "\n",
        "# Division\n",
        "print(f'{x / y = }')\n",
        "\n",
        "# Subtraction\n",
        "print(f'{x - y = }')\n",
        "\n",
        "# Subtraction\n",
        "print(f'{x ** (2*y) = }')"
      ],
      "metadata": {
        "colab": {
          "base_uri": "https://localhost:8080/"
        },
        "id": "u1RGuN62fvGY",
        "outputId": "ba710b02-a604-49cd-9a4e-895aa3e7d0a5"
      },
      "execution_count": 86,
      "outputs": [
        {
          "output_type": "stream",
          "name": "stdout",
          "text": [
            "x = tensor([0, 1, 2, 3, 4, 5, 6, 7, 8, 9])\n",
            "y = tensor([1., 1., 1., 1., 1., 1., 1., 1., 1., 1.])\n",
            "x + y = tensor([ 1.,  2.,  3.,  4.,  5.,  6.,  7.,  8.,  9., 10.])\n",
            "x * y = tensor([0., 1., 2., 3., 4., 5., 6., 7., 8., 9.])\n",
            "x / y = tensor([0., 1., 2., 3., 4., 5., 6., 7., 8., 9.])\n",
            "x - y = tensor([-1.,  0.,  1.,  2.,  3.,  4.,  5.,  6.,  7.,  8.])\n",
            "x ** (2*y) = tensor([ 0.,  1.,  4.,  9., 16., 25., 36., 49., 64., 81.])\n"
          ]
        }
      ]
    },
    {
      "cell_type": "code",
      "source": [
        "# Tensors of different shape results an error\n",
        "p = torch.rand(4)\n",
        "q = torch.rand(5)\n",
        "\n",
        "print(f'{p + q = }')"
      ],
      "metadata": {
        "colab": {
          "base_uri": "https://localhost:8080/",
          "height": 193
        },
        "id": "cX9r_2qslEBB",
        "outputId": "7b7eb74e-5ae1-4159-a1db-f17929e9898c"
      },
      "execution_count": 87,
      "outputs": [
        {
          "output_type": "error",
          "ename": "RuntimeError",
          "evalue": "The size of tensor a (4) must match the size of tensor b (5) at non-singleton dimension 0",
          "traceback": [
            "\u001b[0;31m---------------------------------------------------------------------------\u001b[0m",
            "\u001b[0;31mRuntimeError\u001b[0m                              Traceback (most recent call last)",
            "\u001b[0;32m<ipython-input-87-225ef9447d2c>\u001b[0m in \u001b[0;36m<cell line: 0>\u001b[0;34m()\u001b[0m\n\u001b[1;32m      3\u001b[0m \u001b[0mq\u001b[0m \u001b[0;34m=\u001b[0m \u001b[0mtorch\u001b[0m\u001b[0;34m.\u001b[0m\u001b[0mrand\u001b[0m\u001b[0;34m(\u001b[0m\u001b[0;36m5\u001b[0m\u001b[0;34m)\u001b[0m\u001b[0;34m\u001b[0m\u001b[0;34m\u001b[0m\u001b[0m\n\u001b[1;32m      4\u001b[0m \u001b[0;34m\u001b[0m\u001b[0m\n\u001b[0;32m----> 5\u001b[0;31m \u001b[0mprint\u001b[0m\u001b[0;34m(\u001b[0m\u001b[0;34mf'{p + q = }'\u001b[0m\u001b[0;34m)\u001b[0m\u001b[0;34m\u001b[0m\u001b[0;34m\u001b[0m\u001b[0m\n\u001b[0m",
            "\u001b[0;31mRuntimeError\u001b[0m: The size of tensor a (4) must match the size of tensor b (5) at non-singleton dimension 0"
          ]
        }
      ]
    },
    {
      "cell_type": "code",
      "source": [
        "# Add togather lot of elements and do it efficiently\n",
        "# Tensors of different shape results an error\n",
        "m = torch.rand(1000000)\n",
        "n = torch.rand(1000000)\n",
        "result = m + n\n",
        "\n",
        "%timeit result = m + n"
      ],
      "metadata": {
        "colab": {
          "base_uri": "https://localhost:8080/"
        },
        "id": "g9VFgzg_fvLX",
        "outputId": "0488b856-b23b-4c62-b1b6-b47e37bf1fb0"
      },
      "execution_count": 88,
      "outputs": [
        {
          "output_type": "stream",
          "name": "stdout",
          "text": [
            "653 µs ± 39.7 µs per loop (mean ± std. dev. of 7 runs, 1000 loops each)\n"
          ]
        }
      ]
    },
    {
      "cell_type": "code",
      "source": [
        "# Manipulating Tensors and their shapes\n",
        "\n",
        "g = torch.arange(6)\n",
        "\n",
        "# Values of Image Tensor\n",
        "print(\"Image Tensor value: \" + str(g))\n",
        "\n",
        "# Shape of the Image Tensors\n",
        "print(\"Shape of Tensors: \" +  str(g.shape))\n",
        "\n",
        "# Number of Dimensions of Image Tensors\n",
        "print(\"Dimensions of Tensors: \" +  str(g.ndim))\n",
        "\n",
        "# Change the shape of tensors\n",
        "# View: Will not copy the underlying data just simply changes the shape\n",
        "g_using_view = g.view(2, 3)\n",
        "print(\"Tensor after changing the shape using view: \" +  str(g_using_view))\n",
        "\n",
        "# Reshape: Will copyt the underlying data\n",
        "g_using_reshape = g.reshape(2, 3)\n",
        "print(\"Tensor after changing the shape using view: \" +  str(g_using_reshape))"
      ],
      "metadata": {
        "colab": {
          "base_uri": "https://localhost:8080/"
        },
        "id": "v-WZqsDxmK_p",
        "outputId": "7f613d81-4daf-4a38-e82c-80836a1f42a2"
      },
      "execution_count": 89,
      "outputs": [
        {
          "output_type": "stream",
          "name": "stdout",
          "text": [
            "Image Tensor value: tensor([0, 1, 2, 3, 4, 5])\n",
            "Shape of Tensors: torch.Size([6])\n",
            "Dimensions of Tensors: 1\n",
            "Tensor after changing the shape using view: tensor([[0, 1, 2],\n",
            "        [3, 4, 5]])\n",
            "Tensor after changing the shape using view: tensor([[0, 1, 2],\n",
            "        [3, 4, 5]])\n"
          ]
        }
      ]
    },
    {
      "cell_type": "code",
      "source": [
        "t = torch.rand(2, 3)\n",
        "\n",
        "# Values of Tensor\n",
        "print(\"Tensor value: \" + str(t))\n",
        "\n",
        "# Transpose of the Tensor Matrix\n",
        "print(\"Transpose of the Tensor: \" + str(t.mT))"
      ],
      "metadata": {
        "colab": {
          "base_uri": "https://localhost:8080/"
        },
        "id": "FAnoNNlcmLJc",
        "outputId": "fad01b2e-8835-4a1f-f15b-0838a98056d4"
      },
      "execution_count": 90,
      "outputs": [
        {
          "output_type": "stream",
          "name": "stdout",
          "text": [
            "Tensor value: tensor([[0.4189, 0.1065, 0.3586],\n",
            "        [0.8374, 0.5263, 0.5157]])\n",
            "Transpose of the Tensor: tensor([[0.4189, 0.8374],\n",
            "        [0.1065, 0.5263],\n",
            "        [0.3586, 0.5157]])\n"
          ]
        }
      ]
    },
    {
      "cell_type": "code",
      "source": [
        "# Permute dimensipns of matrix\n",
        "z = torch.rand(2, 3, 4)\n",
        "\n",
        "# Values of Tensor\n",
        "print(\"Tensor value: \" + str(z))\n",
        "\n",
        "# Permute Dimentsions the Tensor Matrix\n",
        "print(\"Transpose of the Tensor: \" + str(z.permute(1, 2, 0)))\n"
      ],
      "metadata": {
        "colab": {
          "base_uri": "https://localhost:8080/"
        },
        "id": "eoOhzj5zn2CK",
        "outputId": "89017aa7-4546-402e-a751-9d062700679d"
      },
      "execution_count": 91,
      "outputs": [
        {
          "output_type": "stream",
          "name": "stdout",
          "text": [
            "Tensor value: tensor([[[0.9547, 0.8201, 0.5719, 0.7424],\n",
            "         [0.6378, 0.1054, 0.5552, 0.3104],\n",
            "         [0.0824, 0.5569, 0.7106, 0.3602]],\n",
            "\n",
            "        [[0.0205, 0.8837, 0.8997, 0.3432],\n",
            "         [0.8998, 0.6625, 0.8152, 0.9766],\n",
            "         [0.0312, 0.9268, 0.6995, 0.2558]]])\n",
            "Transpose of the Tensor: tensor([[[0.9547, 0.0205],\n",
            "         [0.8201, 0.8837],\n",
            "         [0.5719, 0.8997],\n",
            "         [0.7424, 0.3432]],\n",
            "\n",
            "        [[0.6378, 0.8998],\n",
            "         [0.1054, 0.6625],\n",
            "         [0.5552, 0.8152],\n",
            "         [0.3104, 0.9766]],\n",
            "\n",
            "        [[0.0824, 0.0312],\n",
            "         [0.5569, 0.9268],\n",
            "         [0.7106, 0.6995],\n",
            "         [0.3602, 0.2558]]])\n"
          ]
        }
      ]
    },
    {
      "cell_type": "code",
      "source": [
        "# Add Dimensions of size 1\n",
        "r = torch.arange(6).view(2, 3)\n",
        "\n",
        "# Values of Tensor\n",
        "print(\"Tensor value: \" + str(r))\n",
        "\n",
        "# Shape of the Image Tensors\n",
        "print(\"Shape of Tensors: \" +  str(r.shape))\n",
        "\n",
        "# Number of Dimensions of Image Tensors\n",
        "print(\"Dimensions of Tensors: \" +  str(r.ndim))\n",
        "\n",
        "# Blow up Dimentsions of the Tensor Matrix\n",
        "r_blow_up_dim = r[..., None, : , None]\n",
        "print(\"Tensor value: \" + str(r_blow_up_dim))\n",
        "\n",
        "# Shape of the Image Tensors\n",
        "print(\"Shape of Tensors: \" +  str(r_blow_up_dim.shape))\n",
        "\n",
        "# Number of Dimensions of Image Tensors\n",
        "print(\"Dimensions of Tensors: \" +  str(r_blow_up_dim.ndim))"
      ],
      "metadata": {
        "colab": {
          "base_uri": "https://localhost:8080/"
        },
        "id": "73FTo7LRn2FO",
        "outputId": "524fbcc9-85c7-41df-e4ba-49eb73760235"
      },
      "execution_count": 92,
      "outputs": [
        {
          "output_type": "stream",
          "name": "stdout",
          "text": [
            "Tensor value: tensor([[0, 1, 2],\n",
            "        [3, 4, 5]])\n",
            "Shape of Tensors: torch.Size([2, 3])\n",
            "Dimensions of Tensors: 2\n",
            "Tensor value: tensor([[[[0],\n",
            "          [1],\n",
            "          [2]]],\n",
            "\n",
            "\n",
            "        [[[3],\n",
            "          [4],\n",
            "          [5]]]])\n",
            "Shape of Tensors: torch.Size([2, 1, 3, 1])\n",
            "Dimensions of Tensors: 4\n"
          ]
        }
      ]
    },
    {
      "cell_type": "code",
      "source": [
        "# Remove Dimensions of size 1\n",
        "s = torch.arange(6).view(3, 2, 1, 1)\n",
        "\n",
        "# Values of Tensor\n",
        "print(\"Tensor value: \" + str(s))\n",
        "\n",
        "# Shape of the Image Tensors\n",
        "print(\"Shape of Tensors: \" +  str(s.shape))\n",
        "\n",
        "# Number of Dimensions of Image Tensors\n",
        "print(\"Dimensions of Tensors: \" +  str(s.ndim))\n",
        "\n",
        "# Blow up Dimentsions of the Tensor Matrix\n",
        "r_remove_dim = s.squeeze(-2)\n",
        "print(\"Tensor value: \" + str(r_remove_dim))\n",
        "\n",
        "# Shape of the Image Tensors\n",
        "print(\"Shape of Tensors: \" +  str(r_remove_dim.shape))\n",
        "\n",
        "# Number of Dimensions of Image Tensors\n",
        "print(\"Dimensions of Tensors: \" +  str(r_remove_dim.ndim))"
      ],
      "metadata": {
        "colab": {
          "base_uri": "https://localhost:8080/"
        },
        "id": "wsNWRBi4oX81",
        "outputId": "c88df4c4-17ed-42e0-9133-93d26c1eab60"
      },
      "execution_count": 93,
      "outputs": [
        {
          "output_type": "stream",
          "name": "stdout",
          "text": [
            "Tensor value: tensor([[[[0]],\n",
            "\n",
            "         [[1]]],\n",
            "\n",
            "\n",
            "        [[[2]],\n",
            "\n",
            "         [[3]]],\n",
            "\n",
            "\n",
            "        [[[4]],\n",
            "\n",
            "         [[5]]]])\n",
            "Shape of Tensors: torch.Size([3, 2, 1, 1])\n",
            "Dimensions of Tensors: 4\n",
            "Tensor value: tensor([[[0],\n",
            "         [1]],\n",
            "\n",
            "        [[2],\n",
            "         [3]],\n",
            "\n",
            "        [[4],\n",
            "         [5]]])\n",
            "Shape of Tensors: torch.Size([3, 2, 1])\n",
            "Dimensions of Tensors: 3\n"
          ]
        }
      ]
    },
    {
      "cell_type": "code",
      "source": [
        "# Adding Tensors with different shape\n",
        "\n",
        "a = torch.rand((1))\n",
        "b = torch.rand((5))\n",
        "\n",
        "# Will work if either tensor had dimensions of 1\n",
        "addition = a + b\n",
        "\n",
        "# Values of Tensor\n",
        "print(\"Tensor value: \" + str(addition))\n",
        "\n",
        "# Shape of the Image Tensors\n",
        "print(\"Shape of Tensors: \" +  str(addition.shape))\n",
        "\n",
        "# Number of Dimensions of Image Tensors\n",
        "print(\"Dimensions of Tensors: \" +  str(addition.ndim))\n",
        "\n",
        "# Increase the dimension - broadcasting\n",
        "a_new = torch.arange(4).view(4, 1)\n",
        "b_new = torch.arange(5).view(1, 5) * 10\n",
        "\n",
        "print(f'{a_new = }')\n",
        "print(f'{b_new = }')\n",
        "\n",
        "# Updates a_new with 5 columns and b_new with 4 columns and adds them\n",
        "addition_new = a_new + b_new\n",
        "\n",
        "# Values of Tensor\n",
        "print(\"Tensor value: \" + str(addition_new))\n",
        "\n",
        "# Shape of the Image Tensors\n",
        "print(\"Shape of Tensors: \" +  str(addition_new.shape))\n",
        "\n",
        "# Number of Dimensions of Image Tensors\n",
        "print(\"Dimensions of Tensors: \" +  str(addition_new.ndim))\n"
      ],
      "metadata": {
        "colab": {
          "base_uri": "https://localhost:8080/"
        },
        "id": "aPKErooqoYm6",
        "outputId": "bf4605d7-3c88-4957-94cb-772b866bceb4"
      },
      "execution_count": 94,
      "outputs": [
        {
          "output_type": "stream",
          "name": "stdout",
          "text": [
            "Tensor value: tensor([1.0353, 0.3526, 1.2535, 0.7139, 0.9387])\n",
            "Shape of Tensors: torch.Size([5])\n",
            "Dimensions of Tensors: 1\n",
            "a_new = tensor([[0],\n",
            "        [1],\n",
            "        [2],\n",
            "        [3]])\n",
            "b_new = tensor([[ 0, 10, 20, 30, 40]])\n",
            "Tensor value: tensor([[ 0, 10, 20, 30, 40],\n",
            "        [ 1, 11, 21, 31, 41],\n",
            "        [ 2, 12, 22, 32, 42],\n",
            "        [ 3, 13, 23, 33, 43]])\n",
            "Shape of Tensors: torch.Size([4, 5])\n",
            "Dimensions of Tensors: 2\n"
          ]
        }
      ]
    },
    {
      "cell_type": "code",
      "source": [
        "# Examples of broad casting\n",
        "g = torch.rand(10, 2)\n",
        "h = torch.zeros(10, 10)\n",
        "\n",
        "# Without Broad Casting\n",
        "for i in range(10):\n",
        "  for j in range(10):\n",
        "    h[i, j] = (g[i] - g[j]).pow(2).sum()\n",
        "\n",
        "print(h)\n",
        "\n",
        "# With Broadcasting\n",
        "broad_cast = (g[:, None, :] - g[None, :, :]).pow(2).sum(-1)\n",
        "print(f'{broad_cast = }')"
      ],
      "metadata": {
        "colab": {
          "base_uri": "https://localhost:8080/"
        },
        "id": "o1kqs69in2IN",
        "outputId": "6ee9e4ce-e570-442b-9067-06bcf523d907"
      },
      "execution_count": 95,
      "outputs": [
        {
          "output_type": "stream",
          "name": "stdout",
          "text": [
            "tensor([[0.0000, 0.7354, 0.5284, 0.8419, 0.9558, 0.7996, 0.7812, 0.6788, 0.1181,\n",
            "         0.1796],\n",
            "        [0.7354, 0.0000, 0.4898, 0.2669, 0.0169, 0.4912, 0.1244, 0.1232, 0.2709,\n",
            "         0.2367],\n",
            "        [0.5284, 0.4898, 0.0000, 0.1016, 0.5424, 0.0320, 0.9755, 0.9096, 0.3994,\n",
            "         0.1774],\n",
            "        [0.8419, 0.2669, 0.1016, 0.0000, 0.2519, 0.0458, 0.7380, 0.7109, 0.4940,\n",
            "         0.2624],\n",
            "        [0.9558, 0.0169, 0.5424, 0.2519, 0.0000, 0.4975, 0.1894, 0.2006, 0.4163,\n",
            "         0.3471],\n",
            "        [0.7996, 0.4912, 0.0320, 0.0458, 0.4975, 0.0000, 1.0509, 1.0011, 0.5726,\n",
            "         0.2982],\n",
            "        [0.7812, 0.1244, 0.9755, 0.7380, 0.1894, 1.0509, 0.0000, 0.0037, 0.3114,\n",
            "         0.4254],\n",
            "        [0.6788, 0.1232, 0.9096, 0.7109, 0.2006, 1.0011, 0.0037, 0.0000, 0.2506,\n",
            "         0.3652],\n",
            "        [0.1181, 0.2709, 0.3994, 0.4940, 0.4163, 0.5726, 0.3114, 0.2506, 0.0000,\n",
            "         0.0450],\n",
            "        [0.1796, 0.2367, 0.1774, 0.2624, 0.3471, 0.2982, 0.4254, 0.3652, 0.0450,\n",
            "         0.0000]])\n",
            "broad_cast = tensor([[0.0000, 0.7354, 0.5284, 0.8419, 0.9558, 0.7996, 0.7812, 0.6788, 0.1181,\n",
            "         0.1796],\n",
            "        [0.7354, 0.0000, 0.4898, 0.2669, 0.0169, 0.4912, 0.1244, 0.1232, 0.2709,\n",
            "         0.2367],\n",
            "        [0.5284, 0.4898, 0.0000, 0.1016, 0.5424, 0.0320, 0.9755, 0.9096, 0.3994,\n",
            "         0.1774],\n",
            "        [0.8419, 0.2669, 0.1016, 0.0000, 0.2519, 0.0458, 0.7380, 0.7109, 0.4940,\n",
            "         0.2624],\n",
            "        [0.9558, 0.0169, 0.5424, 0.2519, 0.0000, 0.4975, 0.1894, 0.2006, 0.4163,\n",
            "         0.3471],\n",
            "        [0.7996, 0.4912, 0.0320, 0.0458, 0.4975, 0.0000, 1.0509, 1.0011, 0.5726,\n",
            "         0.2982],\n",
            "        [0.7812, 0.1244, 0.9755, 0.7380, 0.1894, 1.0509, 0.0000, 0.0037, 0.3114,\n",
            "         0.4254],\n",
            "        [0.6788, 0.1232, 0.9096, 0.7109, 0.2006, 1.0011, 0.0037, 0.0000, 0.2506,\n",
            "         0.3652],\n",
            "        [0.1181, 0.2709, 0.3994, 0.4940, 0.4163, 0.5726, 0.3114, 0.2506, 0.0000,\n",
            "         0.0450],\n",
            "        [0.1796, 0.2367, 0.1774, 0.2624, 0.3471, 0.2982, 0.4254, 0.3652, 0.0450,\n",
            "         0.0000]])\n"
          ]
        }
      ]
    },
    {
      "cell_type": "code",
      "source": [
        "# Another Examples - Max Distance from anypoint x and y\n",
        "i = torch.randn(10, 2)\n",
        "j = torch.zeros(10, 10)\n",
        "\n",
        "max_dist, max_size = 0, (-1 -1)\n",
        "\n",
        "# Without Broad Casting\n",
        "for p in range(10):\n",
        "  for q in range(10):\n",
        "    if (i[p] - i[q]).pow(2).sum() > max_dist:\n",
        "      max_dist, max_size = (i[p] - i[q]).pow(2).sum(), (p, q)\n",
        "\n",
        "print(f'{max_dist = }')\n",
        "print(f'{max_size = }')\n",
        "\n",
        "\n",
        "# With Broadcasting\n",
        "distance = (i[:, None, :] - i[None, :, :]).pow(2).sum(-1)\n",
        "print(\"Maximum Distance = \" + str(distance.max()))\n",
        "print(\"Maximum Distance = \" + str(distance.argmax() // 10) + \", \" + str(distance.argmax() % 10))"
      ],
      "metadata": {
        "colab": {
          "base_uri": "https://localhost:8080/"
        },
        "id": "kS4PLk7Pn2O-",
        "outputId": "f07cf3e0-7ff8-4b78-ae3a-3337cdaa8dab"
      },
      "execution_count": 96,
      "outputs": [
        {
          "output_type": "stream",
          "name": "stdout",
          "text": [
            "max_dist = tensor(17.7137)\n",
            "max_size = (0, 8)\n",
            "Maximum Distance = tensor(17.7137)\n",
            "Maximum Distance = tensor(0), tensor(8)\n"
          ]
        }
      ]
    },
    {
      "cell_type": "code",
      "source": [
        "# Linear Algebra with Matrix\n",
        "\n",
        "# Matrix Multiplication\n",
        "matrix_1 = torch.rand(2, 4)\n",
        "matrix_2 = torch.rand(4, 3)\n",
        "\n",
        "matrix_multiplication = matrix_1 @ matrix_2\n",
        "print(f'{matrix_multiplication = }')\n",
        "\n",
        "# Vector Multiplication\n",
        "matrix_1 = torch.rand(2, 4)\n",
        "vector_2 = torch.rand(4)\n",
        "\n",
        "vector_multiplication = vector_2 @ matrix_1.mT\n",
        "print(f'{vector_multiplication = }')"
      ],
      "metadata": {
        "colab": {
          "base_uri": "https://localhost:8080/"
        },
        "id": "1oK2Yyran2R3",
        "outputId": "e3393e5f-6338-4cd0-cda4-0dd335245ce3"
      },
      "execution_count": 97,
      "outputs": [
        {
          "output_type": "stream",
          "name": "stdout",
          "text": [
            "matrix_multiplication = tensor([[1.0998, 1.2795, 1.2548],\n",
            "        [0.6629, 0.6323, 0.7621]])\n",
            "vector_multiplication = tensor([1.3571, 1.0886])\n"
          ]
        }
      ]
    }
  ]
}