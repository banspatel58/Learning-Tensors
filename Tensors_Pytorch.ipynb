{
  "nbformat": 4,
  "nbformat_minor": 0,
  "metadata": {
    "colab": {
      "provenance": [],
      "authorship_tag": "ABX9TyNAq2O9kBdp7Ji+UGfl/7cY"
    },
    "kernelspec": {
      "name": "python3",
      "display_name": "Python 3"
    },
    "language_info": {
      "name": "python"
    }
  },
  "cells": [
    {
      "cell_type": "code",
      "execution_count": 1,
      "metadata": {
        "id": "BuvLNaKSej6i"
      },
      "outputs": [],
      "source": [
        "import torch"
      ]
    },
    {
      "cell_type": "code",
      "source": [
        "a = torch.tensor([1, 2, 3], dtype = torch.float32)\n",
        "\n",
        "# Values of Tensor\n",
        "print(\"Tensor a: \" + str(a))\n",
        "\n",
        "# Shape of Tensors\n",
        "print(\"Shape of Tensors: \" +  str(a. shape))\n",
        "\n",
        "# Number of Dimensions of Tensors\n",
        "print(\"Dimensions of Tensors: \" +  str(a. ndim))\n",
        "\n",
        "# Type Of Tensors\n",
        "print(\"Type of Tensors: \" +  str(a.dtype))"
      ],
      "metadata": {
        "id": "GTnfXPZGfu1O"
      },
      "execution_count": null,
      "outputs": []
    },
    {
      "cell_type": "code",
      "source": [
        "# Create Tensors of Zeros\n",
        "b = torch.zeros((3, 3, 3), dtype=torch.float32)\n",
        "print(\"Tensor of zeros of dim 3 x 3 x 3: \" + str(b))\n",
        "\n",
        "# Create Tensors of Ones\n",
        "c = torch.ones((3, 3, 3), dtype=torch.float32)\n",
        "print(\"Tensor of ones of dim 3 x 3 x 3: \" + str(c))\n",
        "\n",
        "# Create Tensors of Random Integers btwn 0 - 10\n",
        "d = torch.randint(0, 10, (3, 3, 3), dtype=torch.int16)\n",
        "print(\"Tensor of random integers of dim 3 x 3 x 3: \" + str(d))\n",
        "\n",
        "# Create Tensors of Random Floats btwn 0 - 1\n",
        "e = torch.rand((3, 3, 3), dtype=torch.float32)\n",
        "print(\"Tensor of random integers of dim 3 x 3 x 3: \" + str(e))"
      ],
      "metadata": {
        "id": "Pvyej5zZfu_k"
      },
      "execution_count": null,
      "outputs": []
    },
    {
      "cell_type": "code",
      "source": [
        "from PIL import Image\n",
        "import numpy as np\n",
        "\n",
        "# Load tensor from an image\n",
        "img = Image.open('my-ai-image.png')\n",
        "image_tensor = torch.as_tensor(np.array(img))\n",
        "\n",
        "# Values of Image Tensor\n",
        "print(\"Image Tensor value: \" + str(image_tensor))\n",
        "\n",
        "# Shape of the Image Tensors\n",
        "print(\"Shape of Tensors: \" +  str(image_tensor.shape))\n",
        "\n",
        "# Number of Dimensions of Image Tensors\n",
        "print(\"Dimensions of Tensors: \" +  str(image_tensor.ndim))\n",
        "\n",
        "# Type Of Image Tensors\n",
        "print(\"Type of Tensors: \" +  str(image_tensor.dtype))\n",
        "\n",
        "# Changing d-type of Image Tensors\n",
        "image_tensor_d_type = torch.as_tensor(np.array(img)).float()\n",
        "\n",
        "# Values of Image Tensor of D-Type Float\n",
        "print(\"Image Tensor value of type float: \" + str(image_tensor_d_type))"
      ],
      "metadata": {
        "id": "4W-1iPWofvDI"
      },
      "execution_count": null,
      "outputs": []
    },
    {
      "cell_type": "code",
      "source": [
        "# Basic Operations of Tensors\n",
        "\n",
        "x = torch.arange(10)\n",
        "y = torch.ones(10)\n",
        "\n",
        "print(f'{x = }')\n",
        "print(f'{y = }')\n",
        "\n",
        "# Addition\n",
        "print(f'{x + y = }')\n",
        "\n",
        "# Multiplication\n",
        "print(f'{x * y = }')\n",
        "\n",
        "# Division\n",
        "print(f'{x / y = }')\n",
        "\n",
        "# Subtraction\n",
        "print(f'{x - y = }')\n",
        "\n",
        "# Subtraction\n",
        "print(f'{x ** (2*y) = }')"
      ],
      "metadata": {
        "id": "u1RGuN62fvGY"
      },
      "execution_count": null,
      "outputs": []
    },
    {
      "cell_type": "code",
      "source": [
        "# Tensors of different shape results an error\n",
        "p = torch.rand(4)\n",
        "q = torch.rand(5)\n",
        "\n",
        "print(f'{p + q = }')"
      ],
      "metadata": {
        "id": "cX9r_2qslEBB"
      },
      "execution_count": null,
      "outputs": []
    },
    {
      "cell_type": "code",
      "source": [
        "# Add togather lot of elements and do it efficiently\n",
        "# Tensors of different shape results an error\n",
        "m = torch.rand(1000000)\n",
        "n = torch.rand(1000000)\n",
        "result = m + n\n",
        "\n",
        "%timeit result = m + n"
      ],
      "metadata": {
        "colab": {
          "base_uri": "https://localhost:8080/"
        },
        "id": "g9VFgzg_fvLX",
        "outputId": "d14d869f-3b92-4474-a06f-d5069f4a5312"
      },
      "execution_count": 44,
      "outputs": [
        {
          "output_type": "stream",
          "name": "stdout",
          "text": [
            "647 µs ± 25.1 µs per loop (mean ± std. dev. of 7 runs, 1000 loops each)\n"
          ]
        }
      ]
    },
    {
      "cell_type": "code",
      "source": [
        "# Manipulating Tensors and their shapes\n",
        "\n",
        "g = torch.arange(6)\n",
        "\n",
        "# Values of Image Tensor\n",
        "print(\"Image Tensor value: \" + str(g))\n",
        "\n",
        "# Shape of the Image Tensors\n",
        "print(\"Shape of Tensors: \" +  str(g.shape))\n",
        "\n",
        "# Number of Dimensions of Image Tensors\n",
        "print(\"Dimensions of Tensors: \" +  str(g.ndim))\n",
        "\n",
        "# Change the shape of tensors\n",
        "# View: Will not copy the underlying data just simply changes the shape\n",
        "g_using_view = g.view(2, 3)\n",
        "print(\"Tensor after changing the shape using view: \" +  str(g_using_view))\n",
        "\n",
        "# Reshape: Will copyt the underlying data\n",
        "g_using_reshape = g.reshape(2, 3)\n",
        "print(\"Tensor after changing the shape using view: \" +  str(g_using_reshape))"
      ],
      "metadata": {
        "id": "v-WZqsDxmK_p"
      },
      "execution_count": null,
      "outputs": []
    },
    {
      "cell_type": "code",
      "source": [
        "t = torch.rand(2, 3)\n",
        "\n",
        "# Values of Tensor\n",
        "print(\"Tensor value: \" + str(t))\n",
        "\n",
        "# Transpose of the Tensor Matrix\n",
        "print(\"Transpose of the Tensor: \" + str(t.mT))"
      ],
      "metadata": {
        "id": "FAnoNNlcmLJc"
      },
      "execution_count": null,
      "outputs": []
    },
    {
      "cell_type": "code",
      "source": [
        "# Permute dimensipns of matrix\n",
        "z = torch.rand(2, 3, 4)\n",
        "\n",
        "# Values of Tensor\n",
        "print(\"Tensor value: \" + str(z))\n",
        "\n",
        "# Permute Dimentsions the Tensor Matrix\n",
        "print(\"Transpose of the Tensor: \" + str(z.permute(1, 2, 0)))\n"
      ],
      "metadata": {
        "id": "eoOhzj5zn2CK"
      },
      "execution_count": null,
      "outputs": []
    },
    {
      "cell_type": "code",
      "source": [
        "# Add Dimensions of size 1\n",
        "r = torch.arange(6).view(2, 3)\n",
        "\n",
        "# Values of Tensor\n",
        "print(\"Tensor value: \" + str(r))\n",
        "\n",
        "# Shape of the Image Tensors\n",
        "print(\"Shape of Tensors: \" +  str(r.shape))\n",
        "\n",
        "# Number of Dimensions of Image Tensors\n",
        "print(\"Dimensions of Tensors: \" +  str(r.ndim))\n",
        "\n",
        "# Blow up Dimentsions of the Tensor Matrix\n",
        "r_blow_up_dim = r[..., None, : , None]\n",
        "print(\"Tensor value: \" + str(r_blow_up_dim))\n",
        "\n",
        "# Shape of the Image Tensors\n",
        "print(\"Shape of Tensors: \" +  str(r_blow_up_dim.shape))\n",
        "\n",
        "# Number of Dimensions of Image Tensors\n",
        "print(\"Dimensions of Tensors: \" +  str(r_blow_up_dim.ndim))"
      ],
      "metadata": {
        "id": "73FTo7LRn2FO"
      },
      "execution_count": null,
      "outputs": []
    },
    {
      "cell_type": "code",
      "source": [
        "# Remove Dimensions of size 1\n",
        "s = torch.arange(6).view(3, 2, 1, 1)\n",
        "\n",
        "# Values of Tensor\n",
        "print(\"Tensor value: \" + str(s))\n",
        "\n",
        "# Shape of the Image Tensors\n",
        "print(\"Shape of Tensors: \" +  str(s.shape))\n",
        "\n",
        "# Number of Dimensions of Image Tensors\n",
        "print(\"Dimensions of Tensors: \" +  str(s.ndim))\n",
        "\n",
        "# Blow up Dimentsions of the Tensor Matrix\n",
        "r_remove_dim = s.squeeze(-2)\n",
        "print(\"Tensor value: \" + str(r_remove_dim))\n",
        "\n",
        "# Shape of the Image Tensors\n",
        "print(\"Shape of Tensors: \" +  str(r_remove_dim.shape))\n",
        "\n",
        "# Number of Dimensions of Image Tensors\n",
        "print(\"Dimensions of Tensors: \" +  str(r_remove_dim.ndim))"
      ],
      "metadata": {
        "id": "wsNWRBi4oX81"
      },
      "execution_count": null,
      "outputs": []
    },
    {
      "cell_type": "code",
      "source": [
        "# Adding Tensors with different shape\n",
        "\n",
        "a = torch.rand((1))\n",
        "b = torch.rand((5))\n",
        "\n",
        "# Will work if either tensor had dimensions of 1\n",
        "addition = a + b\n",
        "\n",
        "# Values of Tensor\n",
        "print(\"Tensor value: \" + str(addition))\n",
        "\n",
        "# Shape of the Image Tensors\n",
        "print(\"Shape of Tensors: \" +  str(addition.shape))\n",
        "\n",
        "# Number of Dimensions of Image Tensors\n",
        "print(\"Dimensions of Tensors: \" +  str(addition.ndim))\n",
        "\n",
        "# Increase the dimension - broadcasting\n",
        "a_new = torch.arange(4).view(4, 1)\n",
        "b_new = torch.arange(5).view(1, 5) * 10\n",
        "\n",
        "print(f'{a_new = }')\n",
        "print(f'{b_new = }')\n",
        "\n",
        "# Updates a_new with 5 columns and b_new with 4 columns and adds them\n",
        "addition_new = a_new + b_new\n",
        "\n",
        "# Values of Tensor\n",
        "print(\"Tensor value: \" + str(addition_new))\n",
        "\n",
        "# Shape of the Image Tensors\n",
        "print(\"Shape of Tensors: \" +  str(addition_new.shape))\n",
        "\n",
        "# Number of Dimensions of Image Tensors\n",
        "print(\"Dimensions of Tensors: \" +  str(addition_new.ndim))\n"
      ],
      "metadata": {
        "id": "aPKErooqoYm6"
      },
      "execution_count": null,
      "outputs": []
    },
    {
      "cell_type": "code",
      "source": [
        "# Examples of broad casting\n",
        "g = torch.rand(10, 2)\n",
        "h = torch.zeros(10, 10)\n",
        "\n",
        "# Without Broad Casting\n",
        "for i in range(10):\n",
        "  for j in range(10):\n",
        "    h[i, j] = (g[i] - g[j]).pow(2).sum()\n",
        "\n",
        "print(h)\n",
        "\n",
        "# With Broadcasting\n",
        "broad_cast = (g[:, None, :] - g[None, :, :]).pow(2).sum(-1)\n",
        "print(f'{broad_cast = }')"
      ],
      "metadata": {
        "id": "o1kqs69in2IN"
      },
      "execution_count": null,
      "outputs": []
    },
    {
      "cell_type": "code",
      "source": [
        "# Another Examples - Max Distance from anypoint x and y\n",
        "i = torch.randn(10, 2)\n",
        "j = torch.zeros(10, 10)\n",
        "\n",
        "max_dist, max_size = 0, (-1 -1)\n",
        "\n",
        "# Without Broad Casting\n",
        "for p in range(10):\n",
        "  for q in range(10):\n",
        "    if (i[p] - i[q]).pow(2).sum() > max_dist:\n",
        "      max_dist, max_size = (i[p] - i[q]).pow(2).sum(), (p, q)\n",
        "\n",
        "print(f'{max_dist = }')\n",
        "print(f'{max_size = }')\n",
        "\n",
        "\n",
        "# With Broadcasting\n",
        "distance = (i[:, None, :] - i[None, :, :]).pow(2).sum(-1)\n",
        "print(\"Maximum Distance = \" + str(distance.max()))\n",
        "print(\"Maximum Distance = \" + str(distance.argmax() // 10) + \", \" + str(distance.argmax() % 10))"
      ],
      "metadata": {
        "colab": {
          "base_uri": "https://localhost:8080/"
        },
        "id": "kS4PLk7Pn2O-",
        "outputId": "c777341b-82cd-459f-de10-9c3b96f5e4cc"
      },
      "execution_count": 74,
      "outputs": [
        {
          "output_type": "stream",
          "name": "stdout",
          "text": [
            "max_dist = tensor(5.5971)\n",
            "max_size = (6, 8)\n",
            "Maximum Distance = tensor(5.5971)\n",
            "Maximum Distance = tensor(6), tensor(8)\n"
          ]
        }
      ]
    },
    {
      "cell_type": "code",
      "source": [
        "# Linear Algebra with Matrix\n",
        "\n",
        "# Matrix Multiplication\n",
        "matrix_1 = torch.rand(2, 4)\n",
        "matrix_2 = torch.rand(4, 3)\n",
        "\n",
        "matrix_multiplication = matrix_1 @ matrix_2\n",
        "print(f'{matrix_multiplication = }')\n",
        "\n",
        "# Vector Multiplication\n",
        "matrix_1 = torch.rand(2, 4)\n",
        "vector_2 = torch.rand(4)\n",
        "\n",
        "vector_multiplication = vector_2 @ matrix_1.mT\n",
        "print(f'{vector_multiplication = }')"
      ],
      "metadata": {
        "colab": {
          "base_uri": "https://localhost:8080/"
        },
        "id": "1oK2Yyran2R3",
        "outputId": "a0631af7-f48f-47b9-ead0-d67f05febfc5"
      },
      "execution_count": 81,
      "outputs": [
        {
          "output_type": "stream",
          "name": "stdout",
          "text": [
            "matrix_multiplication = tensor([[1.3427, 1.0260, 0.9051],\n",
            "        [1.7419, 1.4557, 1.3980]])\n",
            "vector_multiplication = tensor([1.5856, 0.5965])\n"
          ]
        }
      ]
    },
    {
      "cell_type": "code",
      "source": [],
      "metadata": {
        "id": "0WHSAP1Rn2Uo"
      },
      "execution_count": null,
      "outputs": []
    },
    {
      "cell_type": "code",
      "source": [],
      "metadata": {
        "id": "NGOJlOhkn2XZ"
      },
      "execution_count": null,
      "outputs": []
    },
    {
      "cell_type": "code",
      "source": [],
      "metadata": {
        "id": "0Uz0QizgmLML"
      },
      "execution_count": null,
      "outputs": []
    },
    {
      "cell_type": "code",
      "source": [],
      "metadata": {
        "id": "SX8_MuN5mLOn"
      },
      "execution_count": null,
      "outputs": []
    }
  ]
}